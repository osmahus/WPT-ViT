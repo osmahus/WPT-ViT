{
 "cells": [
  {
   "cell_type": "code",
   "execution_count": 1,
   "metadata": {},
   "outputs": [],
   "source": [
    "# Three helpers functions are used to preprocess the dataset, plot diagrams and to perform wavelet packet decompositions\n",
    "# please check them under the helpers folder\n",
    "from helpers.DatasetProcess import dataset_to_df,get_classes\n",
    "from helpers.PlotExtension import norm_to_plot, img_plot\n",
    "from helpers.WaveletPacket import wpt_dec, plot_wpt_nodes, plot_wpt_fun, wavelet_families, get_maxlevel\n",
    "\n",
    "import os\n",
    "\n",
    "import numpy as np\n",
    "import pandas as pd\n",
    "\n",
    "import matplotlib.pyplot as plt\n",
    "import matplotlib.ticker as ticker\n",
    "import seaborn as sn\n",
    "\n",
    "# Pytorch is used to build the model\n",
    "import torch\n",
    "from torch import nn\n",
    "import torch.nn.functional as F\n",
    "\n",
    "from torch.nn import CrossEntropyLoss\n",
    "\n",
    "from torch.optim import SGD, Adam\n",
    "from torch.optim.lr_scheduler import ReduceLROnPlateau , CosineAnnealingLR\n",
    "from torch.utils.data import Dataset, DataLoader\n",
    "\n",
    "from torchvision import transforms\n",
    "from torchvision.transforms import v2\n",
    "from torchvision.io import read_image\n",
    "\n",
    "from torchinfo import summary\n",
    "\n",
    "from einops.layers.torch import Rearrange\n",
    "from einops import rearrange, repeat\n",
    "\n",
    "from tqdm import tqdm\n",
    "import time\n",
    "\n",
    "from sklearn.metrics import confusion_matrix, roc_curve, accuracy_score, recall_score, f1_score , roc_auc_score"
   ]
  },
  {
   "cell_type": "code",
   "execution_count": 2,
   "metadata": {},
   "outputs": [
    {
     "name": "stdout",
     "output_type": "stream",
     "text": [
      "torch version: 2.2.1+cu121\n",
      "GPU Card: NVIDIA GeForce RTX 3070 Ti Laptop GPU\n",
      "Torch is using device: cuda:0\n",
      "CPU Count: 20\n"
     ]
    }
   ],
   "source": [
    "print(f\"torch version: {torch.__version__}\")\n",
    "print(f\"GPU Card: {torch.cuda.get_device_name(0)}\")\n",
    "device = torch.device('cuda:0' if torch.cuda.is_available() else 'cpu')\n",
    "print('Torch is using device:', device)\n",
    "torch.cuda.get_device_name(device)\n",
    "\n",
    "NUM_WORKERS = os.cpu_count()\n",
    "print(\"CPU Count:\", NUM_WORKERS)"
   ]
  },
  {
   "cell_type": "code",
   "execution_count": 3,
   "metadata": {},
   "outputs": [
    {
     "data": {
      "text/plain": [
       "(7444889600, 8589410304)"
      ]
     },
     "execution_count": 3,
     "metadata": {},
     "output_type": "execute_result"
    }
   ],
   "source": [
    "torch.cuda.empty_cache()\n",
    "torch.cuda.mem_get_info()"
   ]
  },
  {
   "cell_type": "markdown",
   "metadata": {},
   "source": [
    "### First: Load the Dataset and Get Some Statistics"
   ]
  },
  {
   "cell_type": "code",
   "execution_count": 4,
   "metadata": {},
   "outputs": [
    {
     "name": "stdout",
     "output_type": "stream",
     "text": [
      "Using the original dataset splits without change\n"
     ]
    }
   ],
   "source": [
    "dataset_name = \"CIFAKE\"\n",
    "path = '../../data/CIFAKE'\n",
    "relative_paths = [\"/train/REAL\", \"/train/FAKE\", \"/test/REAL\", \"/test/FAKE\"]\n",
    "original_split = [\"train\", \"train\", \"test\", \"test\"]\n",
    "paths_classes = [\"REAL\", \"FAKE\", \"REAL\", \"FAKE\"]\n",
    "map_cat = {\"REAL\": 0, \"FAKE\": 1}\n",
    "\n",
    "re_split = False\n",
    "\n",
    "# re-split determines whether to split the dataset into train , valid and test based on desired ratios\n",
    "# if re-split is set to false , then dataset will be taken as is based on it's original splits and the below ratios\n",
    "# will be ignored. Otherwise if re_split is set to True , then you can decide the split ratios as follows:\n",
    "train_ratio = 0.8\n",
    "valid_ratio = 0.14\n",
    "test_ratio = 1-(train_ratio+valid_ratio)\n",
    "\n",
    "if re_split:\n",
    "    print(f'({train_ratio},{valid_ratio},{1-train_ratio-valid_ratio})')\n",
    "else:\n",
    "    print('Using the original dataset splits without change')"
   ]
  },
  {
   "cell_type": "code",
   "execution_count": 5,
   "metadata": {},
   "outputs": [
    {
     "data": {
      "text/plain": [
       "['REAL', 'FAKE']"
      ]
     },
     "execution_count": 5,
     "metadata": {},
     "output_type": "execute_result"
    }
   ],
   "source": [
    "classes = get_classes(map_cat)\n",
    "classes"
   ]
  },
  {
   "cell_type": "code",
   "execution_count": 6,
   "metadata": {},
   "outputs": [
    {
     "data": {
      "text/html": [
       "<div>\n",
       "<style scoped>\n",
       "    .dataframe tbody tr th:only-of-type {\n",
       "        vertical-align: middle;\n",
       "    }\n",
       "\n",
       "    .dataframe tbody tr th {\n",
       "        vertical-align: top;\n",
       "    }\n",
       "\n",
       "    .dataframe thead th {\n",
       "        text-align: right;\n",
       "    }\n",
       "</style>\n",
       "<table border=\"1\" class=\"dataframe\">\n",
       "  <thead>\n",
       "    <tr style=\"text-align: right;\">\n",
       "      <th></th>\n",
       "      <th>Unnamed: 0</th>\n",
       "      <th>REAL</th>\n",
       "      <th>FAKE</th>\n",
       "      <th>Total</th>\n",
       "    </tr>\n",
       "  </thead>\n",
       "  <tbody>\n",
       "    <tr>\n",
       "      <th>0</th>\n",
       "      <td>Training</td>\n",
       "      <td>50000</td>\n",
       "      <td>50000</td>\n",
       "      <td>100000</td>\n",
       "    </tr>\n",
       "    <tr>\n",
       "      <th>1</th>\n",
       "      <td>Validation</td>\n",
       "      <td>10000</td>\n",
       "      <td>10000</td>\n",
       "      <td>20000</td>\n",
       "    </tr>\n",
       "    <tr>\n",
       "      <th>2</th>\n",
       "      <td>Testing</td>\n",
       "      <td>10000</td>\n",
       "      <td>10000</td>\n",
       "      <td>20000</td>\n",
       "    </tr>\n",
       "    <tr>\n",
       "      <th>3</th>\n",
       "      <td>Row_Total</td>\n",
       "      <td>70000</td>\n",
       "      <td>70000</td>\n",
       "      <td>140000</td>\n",
       "    </tr>\n",
       "  </tbody>\n",
       "</table>\n",
       "</div>"
      ],
      "text/plain": [
       "   Unnamed: 0   REAL   FAKE   Total\n",
       "0    Training  50000  50000  100000\n",
       "1  Validation  10000  10000   20000\n",
       "2     Testing  10000  10000   20000\n",
       "3   Row_Total  70000  70000  140000"
      ]
     },
     "execution_count": 6,
     "metadata": {},
     "output_type": "execute_result"
    }
   ],
   "source": [
    "try:\n",
    "    df_all = pd.read_csv(f'{path}/df_all.csv')\n",
    "    df_train = pd.read_csv(f'{path}/df_train.csv')\n",
    "    df_val = pd.read_csv(f'{path}/df_val.csv')\n",
    "    df_test = pd.read_csv(f'{path}/df_test.csv')\n",
    "    classes_stats = pd.read_csv(f'{path}/classes_stats.csv')\n",
    "except FileNotFoundError:\n",
    "    df_all, df_train, df_val, df_test, classes_stats = dataset_to_df( path, relative_paths, paths_classes, original_split, re_split, train_ratio, valid_ratio, test_ratio)\n",
    "    df_all.to_csv(f'{path}/df_all.csv', index=False)\n",
    "    df_train.to_csv(f'{path}/df_train.csv', index=False)\n",
    "    df_val.to_csv(f'{path}/df_val.csv', index=False)\n",
    "    df_test.to_csv(f'{path}/df_test.csv', index=False)\n",
    "    classes_stats.to_csv(f'{path}/classes_stats.csv')\n",
    "\n",
    "classes_stats"
   ]
  },
  {
   "cell_type": "code",
   "execution_count": 7,
   "metadata": {},
   "outputs": [
    {
     "data": {
      "text/html": [
       "<div>\n",
       "<style scoped>\n",
       "    .dataframe tbody tr th:only-of-type {\n",
       "        vertical-align: middle;\n",
       "    }\n",
       "\n",
       "    .dataframe tbody tr th {\n",
       "        vertical-align: top;\n",
       "    }\n",
       "\n",
       "    .dataframe thead th {\n",
       "        text-align: right;\n",
       "    }\n",
       "</style>\n",
       "<table border=\"1\" class=\"dataframe\">\n",
       "  <thead>\n",
       "    <tr style=\"text-align: right;\">\n",
       "      <th></th>\n",
       "      <th>Image_path</th>\n",
       "      <th>Height</th>\n",
       "      <th>Width</th>\n",
       "      <th>Channels</th>\n",
       "      <th>Class</th>\n",
       "      <th>Class_Codes</th>\n",
       "      <th>Class_Onehot</th>\n",
       "    </tr>\n",
       "  </thead>\n",
       "  <tbody>\n",
       "    <tr>\n",
       "      <th>0</th>\n",
       "      <td>../../data/CIFAKE//test/REAL/0979(8).jpg</td>\n",
       "      <td>32</td>\n",
       "      <td>32</td>\n",
       "      <td>RGB</td>\n",
       "      <td>REAL</td>\n",
       "      <td>0</td>\n",
       "      <td>[0 1]</td>\n",
       "    </tr>\n",
       "    <tr>\n",
       "      <th>19999</th>\n",
       "      <td>../../data/CIFAKE//test/FAKE/712(5).jpg</td>\n",
       "      <td>32</td>\n",
       "      <td>32</td>\n",
       "      <td>RGB</td>\n",
       "      <td>FAKE</td>\n",
       "      <td>1</td>\n",
       "      <td>[1 0]</td>\n",
       "    </tr>\n",
       "  </tbody>\n",
       "</table>\n",
       "</div>"
      ],
      "text/plain": [
       "                                     Image_path  Height  Width Channels Class  \\\n",
       "0      ../../data/CIFAKE//test/REAL/0979(8).jpg      32     32      RGB  REAL   \n",
       "19999   ../../data/CIFAKE//test/FAKE/712(5).jpg      32     32      RGB  FAKE   \n",
       "\n",
       "       Class_Codes Class_Onehot  \n",
       "0                0        [0 1]  \n",
       "19999            1        [1 0]  "
      ]
     },
     "execution_count": 7,
     "metadata": {},
     "output_type": "execute_result"
    }
   ],
   "source": [
    "df_test.iloc[[0, -1]]"
   ]
  },
  {
   "cell_type": "code",
   "execution_count": 8,
   "metadata": {},
   "outputs": [
    {
     "data": {
      "image/png": "[encoded data removed]",
      "text/plain": [
       "<Figure size 600x300 with 2 Axes>"
      ]
     },
     "metadata": {},
     "output_type": "display_data"
    }
   ],
   "source": [
    "r_img_idx, f_img_idx = 82, -3\n",
    "step = 32\n",
    "\n",
    "\n",
    "fig, axs = plt.subplots(1, 2, layout=\"constrained\", figsize=(6, 3))\n",
    "fig.suptitle(f'Dataset Sample Images ({dataset_name})')\n",
    "\n",
    "r_img = read_image(df_all.iloc[r_img_idx, 0])\n",
    "f_img = read_image(df_all.iloc[f_img_idx, 0])\n",
    "\n",
    "n = r_img.shape[1]\n",
    "extent = [0, n, n, 0]\n",
    "\n",
    "axs[0].imshow(r_img.permute(1, 2, 0), extent=extent)\n",
    "axs[0].set(xlabel=df_all.iloc[r_img_idx, 4])\n",
    "axs[0].set(xticks=np.arange(0, r_img.shape[2]+1, step=step),\n",
    "           yticks=np.arange(0, r_img.shape[1]+1, step=step))\n",
    "\n",
    "axs[1].imshow(f_img.permute(1, 2, 0), extent=extent)\n",
    "axs[1].set(xlabel=df_all.iloc[f_img_idx, 4])\n",
    "axs[1].set(xticks=np.arange(0, f_img.shape[2]+1, step=step),\n",
    "           yticks=np.arange(0, f_img.shape[1]+1, step=step))\n",
    "\n",
    "plt.show()"
   ]
  },
  {
   "cell_type": "markdown",
   "metadata": {},
   "source": [
    "### Second: Define the Hyper Parameters of the Model"
   ]
  },
  {
   "cell_type": "code",
   "execution_count": 9,
   "metadata": {},
   "outputs": [],
   "source": [
    "n_extra_epochs = 12\n",
    "\n",
    "use_scheduler = False\n",
    "continue_lr = False\n",
    "\n",
    "start_from_model = True\n",
    "max_epochs = None #300\n",
    "# If start_from_model is True, then load a pretrained model and continue training after the model last epoch\n",
    "# Training will continue until reach to max_epochs (integer number)\n",
    "# if max_epochs = None ==> there will be no upper limit for last epoch "
   ]
  },
  {
   "cell_type": "code",
   "execution_count": 10,
   "metadata": {},
   "outputs": [
    {
     "name": "stdout",
     "output_type": "stream",
     "text": [
      "WPT-ViT_haar_L3P1H16E2S0B1000D32_CIFAKE\n"
     ]
    }
   ],
   "source": [
    "# Define the Path of the Model\n",
    "model_type = \"vit\"\n",
    "weights_folder_path = \"../weights\"\n",
    "model_folder = \"CIFAKE\"\n",
    "\n",
    "checkpoint_folder = \"WPT-ViT_haar_L3_P1_H16_E2_S0_B1000_D32_CIFAKE\"\n",
    "\n",
    "\n",
    "# now put a label for the saved model\n",
    "model_code = checkpoint_folder.split(\"_\")[0]+\"_\"+checkpoint_folder.split(\"_\")[1]+\"_\"+''.join(checkpoint_folder.split(\"_\")[2:9])+\"_\"+checkpoint_folder.split(\"_\")[9]\n",
    "\n",
    "print(model_code)\n",
    "\n",
    "# The above Folder name reflects the key model hyper parameters, as follows:\n",
    "\n",
    "# Model Type: (e.g. VITWPT)\n",
    "# wavelet_fun : Name of the wavelet function (e.g. db2)\n",
    "# wavelet_level(L) : The maximum level to which image will be decomposed (e.g. L3)\n",
    "# Patches per decomposition(P): Number of patches (slices) per each WPT decomposition (e.g. P1)\n",
    "# Heads(H): Number of heads of the transformer (e.g. H36)\n",
    "# encoder_levels : Number of stacked encoders (e.g. E1)\n",
    "# Sliced? (S: Whether we are using a subset of the WPT decompositions (True:1 , False:0) (e.g. S0)\n",
    "# Batch_size(B): Batch Size that fed to the model.\n",
    "# Dimension(D): The Dimension of the Dataset after (resize) (e.g. D32)\n",
    "# Dataset: Name of the Dataset (e.g. CIFAKE)"
   ]
  },
  {
   "cell_type": "code",
   "execution_count": 11,
   "metadata": {},
   "outputs": [],
   "source": [
    "# file name of the saved model\n",
    "if start_from_model:\n",
    "    model_file_name = f\"WPT-ViT_haar_L3P1H16E2S0B1000D32_CIFAKE_ph1_ep188_acc92.17\""
   ]
  },
  {
   "cell_type": "code",
   "execution_count": 12,
   "metadata": {},
   "outputs": [],
   "source": [
    "model_state_path = f\"{weights_folder_path}/{model_folder}/{checkpoint_folder}/\"\n",
    "\n",
    "if start_from_model:\n",
    "    checkpoint = torch.load(model_state_path+model_file_name)"
   ]
  },
  {
   "cell_type": "code",
   "execution_count": 13,
   "metadata": {},
   "outputs": [
    {
     "name": "stdout",
     "output_type": "stream",
     "text": [
      "Train another 12 epochs after epoch 188 \n"
     ]
    }
   ],
   "source": [
    "start_epoch = checkpoint['epoch_lst'][-1] if start_from_model else 0\n",
    "end_epoch = start_epoch + n_extra_epochs if max_epochs == None else max_epochs\n",
    "delta_epochs = end_epoch-start_epoch\n",
    "\n",
    "print(f\"Train another {delta_epochs} epochs after epoch {start_epoch} \")"
   ]
  },
  {
   "cell_type": "code",
   "execution_count": 14,
   "metadata": {},
   "outputs": [
    {
     "name": "stdout",
     "output_type": "stream",
     "text": [
      "2\n"
     ]
    }
   ],
   "source": [
    "if start_from_model:\n",
    "    training_phase_lst = checkpoint['training_phase_lst']\n",
    "    training_phase = training_phase_lst[-1]+1\n",
    "else: \n",
    "    training_phase = 1\n",
    "\n",
    "print(training_phase)"
   ]
  },
  {
   "cell_type": "code",
   "execution_count": 15,
   "metadata": {},
   "outputs": [
    {
     "name": "stdout",
     "output_type": "stream",
     "text": [
      "0) haar: haar\n",
      "1) db: db1, db2, db3, db4, db5, db6, db7, db8, db9, db10, db11, db12, db13, db14, db15, db16, db17, db18, db19, db20, db21, db22, db23, db24, db25, db26, db27, db28, db29, db30, db31, db32, db33, db34, db35, db36, db37, db38\n",
      "2) sym: sym2, sym3, sym4, sym5, sym6, sym7, sym8, sym9, sym10, sym11, sym12, sym13, sym14, sym15, sym16, sym17, sym18, sym19, sym20\n",
      "3) coif: coif1, coif2, coif3, coif4, coif5, coif6, coif7, coif8, coif9, coif10, coif11, coif12, coif13, coif14, coif15, coif16, coif17\n",
      "4) bior: bior1.1, bior1.3, bior1.5, bior2.2, bior2.4, bior2.6, bior2.8, bior3.1, bior3.3, bior3.5, bior3.7, bior3.9, bior4.4, bior5.5, bior6.8\n",
      "5) rbio: rbio1.1, rbio1.3, rbio1.5, rbio2.2, rbio2.4, rbio2.6, rbio2.8, rbio3.1, rbio3.3, rbio3.5, rbio3.7, rbio3.9, rbio4.4, rbio5.5, rbio6.8\n",
      "6) dmey: dmey\n",
      " \n",
      "\n"
     ]
    }
   ],
   "source": [
    "wavelet_families()"
   ]
  },
  {
   "cell_type": "code",
   "execution_count": 16,
   "metadata": {},
   "outputs": [
    {
     "name": "stdout",
     "output_type": "stream",
     "text": [
      "Maximum Possible Decomposition Level 5\n"
     ]
    }
   ],
   "source": [
    "# Wavelet Packet Transform Hyper Parameters\n",
    "wpt_fun = 'haar'\n",
    "wpt_level = 3\n",
    "wpt_mode = 'symmetric'\n",
    "wpt_slice = None\n",
    "\n",
    "print(f'Maximum Possible Decomposition Level {get_maxlevel(r_img, wpt_fun, mode=wpt_mode)}')"
   ]
  },
  {
   "cell_type": "code",
   "execution_count": 17,
   "metadata": {},
   "outputs": [
    {
     "data": {
      "image/png": "[encoded data removed]",
      "text/plain": [
       "<Figure size 500x300 with 2 Axes>"
      ]
     },
     "metadata": {},
     "output_type": "display_data"
    }
   ],
   "source": [
    "plot_wpt_fun(wpt_fun, (0.5, 0.5), step1=(0.5, 0.5), step2=(0.5, 1), figsize=(5, 3))"
   ]
  },
  {
   "cell_type": "code",
   "execution_count": 18,
   "metadata": {},
   "outputs": [],
   "source": [
    "img_trans_norm_mean = [0.4913997551666284, 0.48215855929893703, 0.4465309133731618]\n",
    "img_trans_norm_std = [0.24703225141799082, 0.24348516474564, 0.26158783926049628]"
   ]
  },
  {
   "cell_type": "code",
   "execution_count": 19,
   "metadata": {},
   "outputs": [
    {
     "name": "stdout",
     "output_type": "stream",
     "text": [
      "Size of the original image: 32x32 \n",
      "Size of the resized image: 32x32 \n",
      "Size of the WPT decomposition : 4x4\n",
      "Size of single patch(slice): 4x4\n",
      "Patch flattened vector size: 4x4x3 = 48\n",
      "Embedding Size: 48\n",
      "Output MLP size: 192\n",
      "\n",
      "No. of WPT decompositions of the image: 64\n",
      "No. of patches per WPT decomposition: 1\n",
      "Total No of patches : 64x1 = 64\n"
     ]
    }
   ],
   "source": [
    "# Input Image height/width in pixels\n",
    "in_img_size = int(df_all.iloc[0, 1])\n",
    "\n",
    "channels = len(df_all.iloc[0, 3])\n",
    "\n",
    "image_new_size = 32 #in_img_size\n",
    "\n",
    "if image_new_size != in_img_size:\n",
    "  image_t=v2.Resize(image_new_size)(r_img)\n",
    "else:\n",
    "  image_t = r_img\n",
    "\n",
    "# The height/width of a wpt decomposition in pixels\n",
    "# note that the wpt decomposition (and not the original image) will be the actual input to the VIT model\n",
    "wpt_img_size = wpt_dec(image_t, wpt_fun, wpt_level)[1].shape[1]\n",
    "\n",
    "# The height/width of a patch in pixels (patch is a slice of a WPT decomposition)\n",
    "patch_size = wpt_img_size\n",
    "\n",
    "features = ((2**wpt_level)**2) if wpt_slice==None else len(wpt_slice)   # 16 for level 2\n",
    "\n",
    "# No. of patches(slices) per WPT decomposition\n",
    "patches_per_dec = (wpt_img_size//patch_size)**2\n",
    "\n",
    "# Each patch (slice) will be flattened into a row vector of size (3 Channels x Patch_size x Patch_size)\n",
    "patch_flat_size = (channels) * patch_size**2\n",
    "\n",
    "# the flattened patch will be passed first through a linear layer with output embed_size\n",
    "# in this case I will keep the same dimension\n",
    "embed_size = patch_flat_size\n",
    "\n",
    "# dim of the last mlp classifier\n",
    "mlp_dim = embed_size*4#384\n",
    "\n",
    "# The larger the batch size the faster convergence to the optimum parameters\n",
    "# The downside is the larger model size and GPU memory consumed\n",
    "train_batch_size = 1000  # https://www.youtube.com/watch?v=Owm1H0ukjS4\n",
    "valid_batch_size = 1000\n",
    "test_batch_size = 1000\n",
    "\n",
    "# We have 2 classes: Real or Fake\n",
    "num_classes = len(classes)\n",
    "encoder_depth = 2\n",
    "\n",
    "# always take care that embed_size is divisible by the number of attention heads\n",
    "attention_heads = 16\n",
    "\n",
    "# Whether we want to calculate attention of each patch with only its previous patches (in this case Causal is True)\n",
    "# or with all (before and after) patches in the sequence (in this case Causal is False)\n",
    "is_causal = False\n",
    "\n",
    "print(f'Size of the original image: {in_img_size}x{in_img_size} ')\n",
    "print(f'Size of the resized image: {image_new_size}x{image_new_size} ')\n",
    "print(f'Size of the WPT decomposition : {wpt_img_size}x{wpt_img_size}')\n",
    "print(f'Size of single patch(slice): {patch_size}x{patch_size}')\n",
    "print(f'Patch flattened vector size: {patch_size}x{patch_size}x{channels} = {patch_flat_size}')\n",
    "print(f'Embedding Size: {embed_size}')\n",
    "print(f'Output MLP size: {mlp_dim}')\n",
    "print()\n",
    "print(f'No. of WPT decompositions of the image: {features}')\n",
    "print(f'No. of patches per WPT decomposition: {patches_per_dec}')\n",
    "print(f'Total No of patches : {features}x{patches_per_dec} = {features*patches_per_dec}')"
   ]
  },
  {
   "cell_type": "code",
   "execution_count": 20,
   "metadata": {},
   "outputs": [],
   "source": [
    "base_lr = 0.1         # Base Learning rate 0.1 for SGD , 0.0001 for Adam\n",
    "momentum = 0.9          # Momentum for SGD\n",
    "weight_decay = 0.001     # Weight decay for Adam\n",
    "\n",
    "if start_from_model & continue_lr:\n",
    "    use_lr = checkpoint['running_lr_lst'][-1]\n",
    "else:\n",
    "    use_lr = base_lr\n",
    "\n",
    "\n",
    "loss_algo = CrossEntropyLoss\n",
    "\n",
    "optimize_algo = SGD  # Adam\n",
    "optimize_args = {\"lr\": use_lr,\n",
    "                 #  \"weight_decay\": weight_decay ,\n",
    "                 \"momentum\": momentum\n",
    "                 }\n",
    "\n",
    "schedule_algo = CosineAnnealingLR # ReduceLROnPlateau\n",
    "schedule_args = {\"T_max\":n_extra_epochs}#{\"factor\": 0.5, \"mode\": \"max\"}"
   ]
  },
  {
   "cell_type": "code",
   "execution_count": 21,
   "metadata": {},
   "outputs": [
    {
     "data": {
      "text/plain": [
       "{'training_phase': 2,\n",
       " 'model_type': 'vit',\n",
       " 'wpt_fun': 'haar',\n",
       " 'wpt_level': 3,\n",
       " 'wpt_mode': 'symmetric',\n",
       " 'wpt_slice': None,\n",
       " 'channels': 3,\n",
       " 'img_trans_norm_mean': [0.4913997551666284,\n",
       "  0.48215855929893703,\n",
       "  0.4465309133731618],\n",
       " 'img_trans_norm_std': [0.24703225141799082,\n",
       "  0.24348516474564,\n",
       "  0.2615878392604963],\n",
       " 'in_img_size': 32,\n",
       " 'image_new_size': 32,\n",
       " 'wpt_img_size': 4,\n",
       " 'patch_size': 4,\n",
       " 'features': 64,\n",
       " 'patches_per_dec': 1,\n",
       " 'patch_flat_size': 48,\n",
       " 'embed_size': 48,\n",
       " 'mlp_dim': 192,\n",
       " 'train_batch_size': 1000,\n",
       " 'valid_batch_size': 1000,\n",
       " 'num_classes': 2,\n",
       " 'encoder_depth': 2,\n",
       " 'attention_heads': 16,\n",
       " 'is_causal': False,\n",
       " 'n_extra_epochs ': 12,\n",
       " 'base_lr': 0.1,\n",
       " 'momentum': 0.9,\n",
       " 'weight_decay': 0.001,\n",
       " 'loss_algo': torch.nn.modules.loss.CrossEntropyLoss,\n",
       " 'optimize_algo': torch.optim.sgd.SGD,\n",
       " 'optimize_args': {'lr': 0.1, 'momentum': 0.9},\n",
       " 'use_scheduler': False,\n",
       " 'schedule_algo': torch.optim.lr_scheduler.CosineAnnealingLR,\n",
       " 'schedule_args': {'T_max': 12}}"
      ]
     },
     "execution_count": 21,
     "metadata": {},
     "output_type": "execute_result"
    }
   ],
   "source": [
    "hyper_parameters = {\n",
    "    \"training_phase\": training_phase,\n",
    "    \"model_type\": model_type,\n",
    "    \"wpt_fun\": wpt_fun,\n",
    "    \"wpt_level\": wpt_level,\n",
    "    \"wpt_mode\": wpt_mode,\n",
    "    \"wpt_slice\": wpt_slice,\n",
    "    \"channels\": channels,\n",
    "    \"img_trans_norm_mean\": img_trans_norm_mean,\n",
    "    \"img_trans_norm_std\": img_trans_norm_std,\n",
    "    \"in_img_size\": in_img_size,\n",
    "    \"image_new_size\": image_new_size,\n",
    "    \"wpt_img_size\": wpt_img_size,\n",
    "    \"patch_size\": patch_size,\n",
    "    \"features\": features,\n",
    "    \"patches_per_dec\": patches_per_dec,\n",
    "    \"patch_flat_size\": patch_flat_size,\n",
    "    \"embed_size\": embed_size,\n",
    "    \"mlp_dim\": mlp_dim,\n",
    "    \"train_batch_size\": train_batch_size,\n",
    "    \"valid_batch_size\": valid_batch_size,\n",
    "    \"num_classes\": num_classes,\n",
    "    \"encoder_depth\": encoder_depth,\n",
    "    \"attention_heads\": attention_heads,\n",
    "    \"is_causal\": is_causal,\n",
    "    \"n_extra_epochs \": n_extra_epochs,\n",
    "    \"base_lr\": base_lr,\n",
    "    \"momentum\": momentum,\n",
    "    \"weight_decay\": weight_decay,\n",
    "    \"loss_algo\": loss_algo,\n",
    "    \"optimize_algo\": optimize_algo,\n",
    "    \"optimize_args\": optimize_args,\n",
    "    \"use_scheduler\": use_scheduler,\n",
    "    \"schedule_algo\": schedule_algo,\n",
    "    \"schedule_args\": schedule_args\n",
    "}\n",
    "\n",
    "hyper_parameters"
   ]
  },
  {
   "cell_type": "code",
   "execution_count": 22,
   "metadata": {},
   "outputs": [],
   "source": [
    "# https://github.com/lucidrains/vit-pytorch/blob/main/vit_pytorch/vit.py\n",
    "# replaced the attention mechanism with MHA from Sebastian Raschka\n",
    "\n",
    "# helpers\n",
    "def mask(x_size, patches_per_dec, features, heads):\n",
    "\n",
    "    # patches_per_dec : is the number of patches per each wpt decomposition\n",
    "    # x_size is the shape of the Transformer (MHA) input, it has the shape:\n",
    "    # (batch_size, patches\"including the first position patch\",patch embedding_size)\n",
    "\n",
    "    # The smallest granularity of mask is a whole WPT decomposition\n",
    "\n",
    "    a0 = torch.zeros(patches_per_dec, patches_per_dec, dtype=torch.int)\n",
    "    a1 = torch.ones(patches_per_dec, patches_per_dec, dtype=torch.int)\n",
    "    a = torch.stack((a0, a1))\n",
    "\n",
    "    batch_size = x_size[0]\n",
    "    patches = x_size[1]\n",
    "\n",
    "    # features\n",
    "\n",
    "    b = torch.ones(features,  features, dtype=torch.int32).tril(0)\n",
    "    c = a[b]\n",
    "    e = rearrange(c, \"a b c d -> (a c)(b d)\")\n",
    "\n",
    "    pos_col = torch.ones(patches-1, 1, dtype=torch.int32)\n",
    "    pos_row = torch.zeros(1, patches, dtype=torch.int32)\n",
    "\n",
    "    f = torch.concat((pos_col, e), dim=1)\n",
    "    mask = torch.concat((pos_row, f), dim=0)\n",
    "    mask[0, 0] = 1\n",
    "\n",
    "    mask = mask[None, None, :, :]\n",
    "    mask = mask.repeat(batch_size, heads, 1, 1)\n",
    "    mask = mask.to(dtype=torch.bool)\n",
    "\n",
    "    return mask\n",
    "\n",
    "\n",
    "class WPT2D(nn.Module):\n",
    "    def __init__(self, wpt_fun, wpt_level, mode, slice):\n",
    "        super().__init__()\n",
    "        self.wpt_fun = wpt_fun\n",
    "        self.wpt_level = wpt_level\n",
    "        self.mode = mode\n",
    "        self.slice = slice\n",
    "\n",
    "    def forward(self, x):\n",
    "\n",
    "        *_, nodes_tensor = wpt_dec(x, self.wpt_fun, level=self.wpt_level, mode=self.mode, slice=self.slice)\n",
    "\n",
    "        return nodes_tensor\n",
    "\n",
    "\n",
    "class Patch_Embed(nn.Module):\n",
    "    def __init__(self, patch_size, patch_dim, embed_size):\n",
    "        super().__init__()\n",
    "        self.patch_embed = nn.Sequential(\n",
    "            # This rearrangement is suitable for the wavelet packet features\n",
    "            # torch.Size([200, 16, 3, 32, 32])\n",
    "            Rearrange('b f c (h p1) (w p2) -> b (f h w) (c p1 p2)', p1=patch_size, p2=patch_size),\n",
    "            nn.Linear(patch_dim, embed_size),\n",
    "        )\n",
    "\n",
    "    def forward(self, x):\n",
    "        return self.patch_embed(x)\n",
    "\n",
    "\n",
    "class PreNorm(nn.Module):\n",
    "    def __init__(self, dim, fn):\n",
    "        super().__init__()\n",
    "        self.norm = nn.LayerNorm(dim)\n",
    "        self.fn = fn\n",
    "\n",
    "    def forward(self, x, **kwargs):\n",
    "        return self.fn(self.norm(x), **kwargs)\n",
    "\n",
    "\n",
    "class FeedForward(nn.Module):\n",
    "    def __init__(self, dim, hidden_dim, dropout=0.):\n",
    "        super().__init__()\n",
    "        self.model = nn.Sequential(\n",
    "            nn.Linear(dim, hidden_dim),\n",
    "            nn.GELU(),\n",
    "            nn.Dropout(dropout),\n",
    "            nn.Linear(hidden_dim, dim),\n",
    "            nn.Dropout(dropout)\n",
    "        )\n",
    "\n",
    "    def forward(self, x):\n",
    "        return self.model(x)\n",
    "\n",
    "\n",
    "# inspired by Sebstian Raschka with modifications\n",
    "class MHA(nn.Module):\n",
    "    def __init__(self, patches_per_dec, features, embed_size, heads, is_causal, dropout):\n",
    "        super().__init__()\n",
    "        self.embed_size = embed_size\n",
    "        self.inner_dim = embed_size*2\n",
    "        self.heads = heads\n",
    "        self.dim_per_head = self.inner_dim // self.heads\n",
    "        self.Wq = nn.Linear(in_features=embed_size, out_features=self.inner_dim)\n",
    "        self.Wk = nn.Linear(in_features=embed_size, out_features=self.inner_dim)\n",
    "        self.Wv = nn.Linear(in_features=embed_size, out_features=self.inner_dim)\n",
    "        self.softmax = nn.Softmax(dim=-1)\n",
    "\n",
    "        self.dropout = dropout\n",
    "        self.linear = nn.Linear( in_features=self.inner_dim, out_features=embed_size)\n",
    "        self.is_causal = is_causal\n",
    "        self.patches_per_dec = patches_per_dec\n",
    "        self.features = features\n",
    "\n",
    "    def forward(self, x):\n",
    "\n",
    "        attn_bias = torch.zeros(x.size(0), self.heads, x.size(1), x.size(1), dtype=x.dtype).to(device)\n",
    "\n",
    "        if self.is_causal:\n",
    "            temp_mask = mask(x.shape, self.patches_per_dec, self.features, self.heads).to(device)\n",
    "            attn_bias.masked_fill_(temp_mask.logical_not(), float(\"-inf\"))\n",
    "            attn_bias.to(dtype=x.dtype)\n",
    "\n",
    "        q = self.Wq(x)\n",
    "        k = self.Wk(x)\n",
    "        v = self.Wv(x)\n",
    "        \n",
    "        Q = rearrange(q, 'b s (h d) -> b h s d', h=self.heads, d=self.dim_per_head)\n",
    "        K = rearrange(k, 'b s (h d) -> b h s d', h=self.heads, d=self.dim_per_head)\n",
    "        V = rearrange(v, 'b s (h d) -> b h s d', h=self.heads, d=self.dim_per_head)\n",
    "\n",
    "        scale_factor = self.dim_per_head**0.5\n",
    "\n",
    "        use_dropout = 0.0 if not self.training else self.dropout\n",
    "\n",
    "        # Note:\n",
    "\n",
    "        # # Q(b h s d) . KT(b h d s) ==> b h s s\n",
    "        QK = Q @ K.transpose(-2, -1) * scale_factor\n",
    "\n",
    "        if self.is_causal:\n",
    "            QK_and_bias = QK+attn_bias\n",
    "            # b h s s ==> b h s s\n",
    "            weight = self.softmax(QK_and_bias)\n",
    "        else:\n",
    "            weight = self.softmax(QK)\n",
    "\n",
    "        weight_drop = torch.dropout(weight, use_dropout, train=True)\n",
    "\n",
    "        # # weight(b h s s).V(b h s d) ==> attention (b h s d)\n",
    "        attention = weight_drop @ V\n",
    "\n",
    "        attention = rearrange(attention, 'b h s d -> b s (h d)')\n",
    "        attention = self.linear(attention)\n",
    "        return attention\n",
    "\n",
    "\n",
    "class Transformer(nn.Module):\n",
    "    def __init__(self, patches_per_dec, features, embed_size, depth, mlp_dim, heads, is_causal, dropout):\n",
    "        super().__init__()\n",
    "\n",
    "        self.layers = nn.ModuleList([])\n",
    "\n",
    "        for _ in range(depth):\n",
    "            self.layers.append(\n",
    "                nn.ModuleList(\n",
    "                    [PreNorm(embed_size, MHA(patches_per_dec, features, embed_size, heads, is_causal, dropout)),\n",
    "                     PreNorm(embed_size, FeedForward(embed_size, mlp_dim, dropout=dropout))]\n",
    "                )\n",
    "            )\n",
    "\n",
    "    def forward(self, x):\n",
    "        for attn, ff in self.layers:\n",
    "            x = attn(x) + x\n",
    "            x = ff(x) + x\n",
    "        return x\n",
    "\n",
    "\n",
    "class vit(nn.Module):\n",
    "    def __init__(self, num_classes, channels, features, slice, patches_per_dec, patch_size, embed_size, wpt_fun, wpt_level, mode, depth, heads, mlp_dim, is_causal, emb_dropout, enc_dropout):\n",
    "\n",
    "        super().__init__()\n",
    "\n",
    "        # num_classes: Number of classes to be learned (2 for the binary Deep Fake Identification Problem)\n",
    "        # channels: Channels of the image (3 for colored images)\n",
    "        # features: No. of WPT decompositions per an image\n",
    "        # slice: which WPT decompositions will be considered as input for the model\n",
    "        # patches_per_dec: No. of patches per a single WPT decomposition \n",
    "        # patch_size: the height or width of 2D patch (slice)\n",
    "        # embed_size: the flattend size for each patch token before entering the encoder stage \n",
    "        # wpt_fun: The Wavelet Function\n",
    "        # wpt_level: The maximum Level to which an Image will be decomposed\n",
    "        # mode: How WPT will deal with the edges of the image (padding)\n",
    "        # depth: Number of stacked encoders in the transformer\n",
    "        # heads: Number of heads in the encoders\n",
    "        # mlp_dim: size of the last MLP layer after existing the transformer \n",
    "        # is_causal: if True then token will not calculate attention with the next (future) tokens in the input sequence  \n",
    "        # emb_dropout: dropout ratio before entering the transformer (to reduce overfitting)\n",
    "        # enc_dropout: dropout ratio inside each encoder of the transformer (to reduce overfitting)  \n",
    "\n",
    "        patch_dim = channels * patch_size**2\n",
    "        num_patches = patches_per_dec * features\n",
    "\n",
    "        self.to_wpt2d = WPT2D(wpt_fun, wpt_level, mode, slice)\n",
    "        self.to_patch_embedding = Patch_Embed(patch_size, patch_dim, embed_size)\n",
    "\n",
    "        self.cls_token = nn.Parameter(torch.randn(1, 1, embed_size))\n",
    "        self.pos_embedding = nn.Parameter(torch.randn(1, num_patches + 1, embed_size))\n",
    "        \n",
    "        self.dropout = nn.Dropout(emb_dropout)\n",
    "\n",
    "        self.transformer = Transformer(patches_per_dec, features, embed_size, depth, mlp_dim, heads, is_causal, enc_dropout)\n",
    "\n",
    "        self.to_latent = nn.Identity()\n",
    "\n",
    "        self.mlp_head = nn.Sequential(\n",
    "            nn.LayerNorm(embed_size),\n",
    "            nn.Linear(embed_size, num_classes)\n",
    "        )\n",
    "\n",
    "    def forward(self, img):\n",
    "\n",
    "        # First: Output the WPT decompositions of the input image\n",
    "        img_wpt = self.to_wpt2d(img)\n",
    "\n",
    "        # Second: slice every WPT decomposition into patches(slices)\n",
    "        x = self.to_patch_embedding(img_wpt)\n",
    "\n",
    "        # Third: add class token and positional embedding\n",
    "\n",
    "            # input x.shape: (batch_size , num_patches , embed_size)\n",
    "        b, *_ = x.shape\n",
    "        \n",
    "            # cls_token.shape: (1 , 1 , embed_size)\n",
    "            # cls_tokens.shape: (batch_size , 1 , embed_size)\n",
    "        cls_tokens = repeat(self.cls_token, '() n d -> b n d', b=b)\n",
    "        \n",
    "            # new x.shape: (batch_size , num_patches + 1 , embed_size)\n",
    "        x = torch.cat((cls_tokens, x), dim=1)\n",
    "\n",
    "            # pos_embedding.shape: (batch_size , num_patches + 1 , embed_size)\n",
    "        x += self.pos_embedding\n",
    "\n",
    "        # Fourth: transformer \n",
    "        x = self.dropout(x)\n",
    "        x = self.transformer(x)\n",
    "\n",
    "        x = x[:, 0]  # x.mean(dim=1)\n",
    "\n",
    "        x = self.to_latent(x)\n",
    "\n",
    "        # Fifth: output MLP Layer \n",
    "        out = self.mlp_head(x)\n",
    "\n",
    "        return out "
   ]
  },
  {
   "cell_type": "code",
   "execution_count": 23,
   "metadata": {},
   "outputs": [],
   "source": [
    "# Custom Dataset Class\n",
    "class Images_Dataset(Dataset):\n",
    "    def __init__(self, annotations_df, transform=None):\n",
    "\n",
    "        self.annotation = annotations_df\n",
    "        self.transform = transform\n",
    "\n",
    "    def __getitem__(self, index):\n",
    "\n",
    "        img = read_image(self.annotation.iloc[index, 0])\n",
    "        labels = torch.tensor(self.annotation.iloc[index, 5], dtype=torch.int64)\n",
    "\n",
    "        if self.transform:\n",
    "            img_t = self.transform(img)\n",
    "        else:\n",
    "            img_t = img\n",
    "\n",
    "        return img_t, labels\n",
    "\n",
    "    def __len__(self):\n",
    "        # To return the length of the dataset\n",
    "        return self.annotation.shape[0]"
   ]
  },
  {
   "cell_type": "code",
   "execution_count": 24,
   "metadata": {},
   "outputs": [],
   "source": [
    "if image_new_size != in_img_size:\n",
    "    transform_train = transforms.Compose([\n",
    "        v2.Resize(size=image_new_size),\n",
    "        v2.ToImage(),\n",
    "        v2.ToDtype(torch.float32, scale=True),\n",
    "        v2.Normalize(img_trans_norm_mean, img_trans_norm_std),\n",
    "    ])\n",
    "\n",
    "    transform_valid = transforms.Compose([\n",
    "        v2.Resize(size=image_new_size),\n",
    "        v2.ToImage(),\n",
    "        v2.ToDtype(torch.float32, scale=True),\n",
    "        v2.Normalize(img_trans_norm_mean, img_trans_norm_std),\n",
    "    ])\n",
    "\n",
    "else:\n",
    "    transform_train = transforms.Compose([\n",
    "        v2.ToImage(),\n",
    "        v2.ToDtype(torch.float32, scale=True),\n",
    "        v2.Normalize(img_trans_norm_mean, img_trans_norm_std),\n",
    "    ])\n",
    "\n",
    "    transform_valid = transforms.Compose([\n",
    "        v2.ToImage(),\n",
    "        v2.ToDtype(torch.float32, scale=True),\n",
    "        v2.Normalize(img_trans_norm_mean, img_trans_norm_std),\n",
    "    ])"
   ]
  },
  {
   "cell_type": "code",
   "execution_count": 25,
   "metadata": {},
   "outputs": [],
   "source": [
    "# Define the dataset object and configure the Data Loader\n",
    "\n",
    "train_set = Images_Dataset(df_train, transform_train)\n",
    "\n",
    "train_loader = DataLoader(dataset=train_set,\n",
    "                          batch_size=train_batch_size,\n",
    "                          # Drops the last mini batch if less than the batch size (could enhance the model accuracy)\n",
    "                          drop_last=True,\n",
    "                          shuffle=True,\n",
    "                          pin_memory=True,\n",
    "                          num_workers=NUM_WORKERS)\n",
    "\n",
    "\n",
    "valid_set = Images_Dataset(df_val, transform_valid)\n",
    "\n",
    "valid_loader = DataLoader(dataset=valid_set,\n",
    "                          batch_size=valid_batch_size,\n",
    "                          # Drops the last mini batch if less than the batch size (could enhance the model accuracy)\n",
    "                          drop_last=True,\n",
    "                          shuffle=False,\n",
    "                          pin_memory=True,\n",
    "                          num_workers=NUM_WORKERS)"
   ]
  },
  {
   "cell_type": "code",
   "execution_count": 26,
   "metadata": {},
   "outputs": [
    {
     "name": "stdout",
     "output_type": "stream",
     "text": [
      "Total number of training batches: 100\n",
      "Total number of validation batches: 20\n"
     ]
    }
   ],
   "source": [
    "print(\"Total number of training batches:\", len(train_loader))\n",
    "print(\"Total number of validation batches:\", len(valid_loader))"
   ]
  },
  {
   "cell_type": "code",
   "execution_count": 27,
   "metadata": {},
   "outputs": [],
   "source": [
    "sample_imgt_bch, label_bch = next(iter(train_loader))"
   ]
  },
  {
   "cell_type": "code",
   "execution_count": 28,
   "metadata": {},
   "outputs": [
    {
     "name": "stdout",
     "output_type": "stream",
     "text": [
      "Batch of Images Shape: torch.Size([1000, 3, 32, 32])\n",
      "Batch of Labels Shape: torch.Size([1000])\n"
     ]
    }
   ],
   "source": [
    "print(f\"Batch of Images Shape: {sample_imgt_bch.size()}\")\n",
    "print(f\"Batch of Labels Shape: {label_bch.size()}\")"
   ]
  },
  {
   "cell_type": "code",
   "execution_count": 29,
   "metadata": {},
   "outputs": [
    {
     "data": {
      "text/plain": [
       "torch.Size([3, 32, 32])"
      ]
     },
     "execution_count": 29,
     "metadata": {},
     "output_type": "execute_result"
    }
   ],
   "source": [
    "sample_img_idx = 12\n",
    "\n",
    "sample_img = sample_imgt_bch[sample_img_idx, :, :, :]\n",
    "sample_img.shape"
   ]
  },
  {
   "cell_type": "code",
   "execution_count": 30,
   "metadata": {},
   "outputs": [],
   "source": [
    "_, nodes, _ = wpt_dec(img=sample_img, wavelet_fun=wpt_fun, level=wpt_level, mode=wpt_mode, slice=wpt_slice)"
   ]
  },
  {
   "cell_type": "code",
   "execution_count": 31,
   "metadata": {},
   "outputs": [
    {
     "data": {
      "text/plain": [
       "(32, 32, 3)"
      ]
     },
     "execution_count": 31,
     "metadata": {},
     "output_type": "execute_result"
    }
   ],
   "source": [
    "sample_img_a = norm_to_plot(sample_img)\n",
    "sample_img_a.shape"
   ]
  },
  {
   "cell_type": "code",
   "execution_count": 32,
   "metadata": {},
   "outputs": [
    {
     "data": {
      "text/plain": [
       "Text(0.5, 1.0, 'Label: Fake')"
      ]
     },
     "execution_count": 32,
     "metadata": {},
     "output_type": "execute_result"
    },
    {
     "data": {
      "image/png": "[encoded data removed]",
      "text/plain": [
       "<Figure size 200x200 with 1 Axes>"
      ]
     },
     "metadata": {},
     "output_type": "display_data"
    }
   ],
   "source": [
    "fig, ax = plt.subplots(1, 1, figsize=(2, 2))\n",
    "\n",
    "n = sample_img_a.shape[0]\n",
    "extent = [0, n, n, 0]\n",
    "\n",
    "ax.imshow(norm_to_plot(sample_img_a), extent=extent)\n",
    "ax.set(xticks=np.arange(0, sample_img_a.shape[1]+1, step=32),\n",
    "       yticks=np.arange(0, sample_img_a.shape[0]+1, step=32))\n",
    "ax.set_title(\n",
    "    f'Label: {\"Real\" if label_bch[sample_img_idx].item()==1 else \"Fake\"}')"
   ]
  },
  {
   "cell_type": "code",
   "execution_count": 33,
   "metadata": {},
   "outputs": [
    {
     "name": "stdout",
     "output_type": "stream",
     "text": [
      "torch.Size([3, 32, 32])\n"
     ]
    }
   ],
   "source": [
    "print(sample_img.shape)"
   ]
  },
  {
   "cell_type": "code",
   "execution_count": 34,
   "metadata": {},
   "outputs": [
    {
     "name": "stderr",
     "output_type": "stream",
     "text": [
      "/home/osmahus/pytVenv/lib/python3.11/site-packages/IPython/core/pylabtools.py:152: UserWarning: There are no gridspecs with layoutgrids. Possibly did not call parent GridSpec with the \"figure\" keyword\n",
      "  fig.canvas.print_figure(bytes_io, **kw)\n"
     ]
    },
    {
     "data": {
      "image/png": "[encoded data removed]",
      "text/plain": [
       "<Figure size 800x800 with 128 Axes>"
      ]
     },
     "metadata": {},
     "output_type": "display_data"
    }
   ],
   "source": [
    "plot_wpt_nodes(sample_img, wpt_fun, wpt_level, setticks=4, slice=wpt_slice, figsize=(8, 8))"
   ]
  },
  {
   "cell_type": "code",
   "execution_count": 35,
   "metadata": {},
   "outputs": [
    {
     "name": "stdout",
     "output_type": "stream",
     "text": [
      "Shape of the image patches matrix:  (1, 1, 4, 4, 3)\n"
     ]
    },
    {
     "data": {
      "image/png": "[encoded data removed]",
      "text/plain": [
       "<Figure size 800x600 with 3 Axes>"
      ]
     },
     "metadata": {},
     "output_type": "display_data"
    }
   ],
   "source": [
    "img_plot(nodes[0, :, :, :], slice_width=patch_size, figsize=(8, 6), setticks1=None, setticks2=None, axes_pad=0.15)"
   ]
  },
  {
   "cell_type": "code",
   "execution_count": 36,
   "metadata": {},
   "outputs": [
    {
     "name": "stdout",
     "output_type": "stream",
     "text": [
      "Shape of the image patches matrix:  (1, 1, 4, 4, 3)\n"
     ]
    },
    {
     "data": {
      "image/png": "[encoded data removed]",
      "text/plain": [
       "<Figure size 300x400 with 3 Axes>"
      ]
     },
     "metadata": {},
     "output_type": "display_data"
    }
   ],
   "source": [
    "if wpt_level != 0:\n",
    "    img_plot(nodes[1, :, :, :], slice_width=patch_size, figsize=(3, 4), setticks1=None, setticks2=None, axes_pad=0.15)"
   ]
  },
  {
   "cell_type": "code",
   "execution_count": 37,
   "metadata": {},
   "outputs": [],
   "source": [
    "if model_type == \"vit\":\n",
    "    model = vit(\n",
    "        num_classes=num_classes,\n",
    "        channels=channels,\n",
    "        features=features,\n",
    "        slice=wpt_slice,\n",
    "        patches_per_dec=patches_per_dec,\n",
    "        patch_size=patch_size,\n",
    "        embed_size=embed_size,\n",
    "        wpt_fun=wpt_fun,\n",
    "        wpt_level=wpt_level,\n",
    "        mode=wpt_mode,\n",
    "        depth=encoder_depth,\n",
    "        heads=attention_heads,\n",
    "        mlp_dim=mlp_dim,\n",
    "        is_causal=is_causal,\n",
    "        emb_dropout=0.1,\n",
    "        enc_dropout=0.1,\n",
    "    )\n",
    "else:\n",
    "    raise ValueError(\n",
    "        \"You must set the model_type variable to any of: vit ,....\")"
   ]
  },
  {
   "cell_type": "code",
   "execution_count": 38,
   "metadata": {},
   "outputs": [
    {
     "data": {
      "text/plain": [
       "==================================================================================================================================\n",
       "Layer (type (var_name))                            Input Shape          Output Shape         Param #              Trainable\n",
       "==================================================================================================================================\n",
       "vit (vit)                                          [1000, 3, 32, 32]    [1000, 2]            3,168                True\n",
       "├─WPT2D (to_wpt2d)                                 [1000, 3, 32, 32]    [1000, 64, 3, 4, 4]  --                   --\n",
       "├─Patch_Embed (to_patch_embedding)                 [1000, 64, 3, 4, 4]  [1000, 64, 48]       --                   True\n",
       "│    └─Sequential (patch_embed)                    [1000, 64, 3, 4, 4]  [1000, 64, 48]       --                   True\n",
       "│    │    └─Rearrange (0)                          [1000, 64, 3, 4, 4]  [1000, 64, 48]       --                   --\n",
       "│    │    └─Linear (1)                             [1000, 64, 48]       [1000, 64, 48]       2,352                True\n",
       "├─Dropout (dropout)                                [1000, 65, 48]       [1000, 65, 48]       --                   --\n",
       "├─Transformer (transformer)                        [1000, 65, 48]       [1000, 65, 48]       --                   True\n",
       "│    └─ModuleList (layers)                         --                   --                   --                   True\n",
       "│    │    └─ModuleList (0)                         --                   --                   37,632               True\n",
       "│    │    └─ModuleList (1)                         --                   --                   37,632               True\n",
       "├─Identity (to_latent)                             [1000, 48]           [1000, 48]           --                   --\n",
       "├─Sequential (mlp_head)                            [1000, 48]           [1000, 2]            --                   True\n",
       "│    └─LayerNorm (0)                               [1000, 48]           [1000, 48]           96                   True\n",
       "│    └─Linear (1)                                  [1000, 48]           [1000, 2]            98                   True\n",
       "==================================================================================================================================\n",
       "Total params: 80,978\n",
       "Trainable params: 80,978\n",
       "Non-trainable params: 0\n",
       "Total mult-adds (Units.MEGABYTES): 77.81\n",
       "==================================================================================================================================\n",
       "Input size (MB): 12.29\n",
       "Forward/backward pass size (MB): 723.86\n",
       "Params size (MB): 0.31\n",
       "Estimated Total Size (MB): 736.46\n",
       "=================================================================================================================================="
      ]
     },
     "execution_count": 38,
     "metadata": {},
     "output_type": "execute_result"
    }
   ],
   "source": [
    "summary(model=model,\n",
    "        input_size=sample_imgt_bch.size(),\n",
    "        col_names=[\"input_size\", \"output_size\", \"num_params\", \"trainable\"],\n",
    "        col_width=20,\n",
    "        row_settings=[\"var_names\"])"
   ]
  },
  {
   "cell_type": "code",
   "execution_count": 39,
   "metadata": {},
   "outputs": [],
   "source": [
    "criterion = loss_algo()\n",
    "optimizer = optimize_algo(model.parameters(), **optimize_args)\n",
    "scheduler = schedule_algo(optimizer, **schedule_args)"
   ]
  },
  {
   "cell_type": "code",
   "execution_count": 40,
   "metadata": {},
   "outputs": [],
   "source": [
    "if start_from_model:\n",
    "    model.load_state_dict(checkpoint['model'])\n",
    "    if checkpoint['optimizer_lst'][-1] == optimize_algo:\n",
    "        optimizer.load_state_dict(checkpoint['optimizer'])\n",
    "\n",
    "    best_acc = checkpoint['best_acc']\n",
    "    epoch_lst = checkpoint['epoch_lst']\n",
    "    tr_loss_lst = checkpoint['tr_loss_lst']\n",
    "    tr_acc_lst = checkpoint['tr_acc_lst']\n",
    "    val_loss_lst = checkpoint['val_loss_lst']\n",
    "    val_acc_lst = checkpoint['val_acc_lst']\n",
    "    optimizer_lst = checkpoint['optimizer_lst']\n",
    "    running_lr_lst = checkpoint['running_lr_lst']\n",
    "    training_phase_lst = checkpoint['training_phase_lst']\n",
    "    hyper_parameters_lst = checkpoint['hyper_parameters_lst']\n",
    "    accumulate_duration_lst = checkpoint['accumulate_duration_lst']\n",
    "    model_file_name_lst = checkpoint['model_file_name_lst']\n",
    "\n",
    "else:\n",
    "    \n",
    "    best_acc = 0\n",
    "    epoch_lst = []\n",
    "    tr_loss_lst = []\n",
    "    tr_acc_lst = []\n",
    "    val_loss_lst = []\n",
    "    val_acc_lst = []\n",
    "    optimizer_lst = []\n",
    "    running_lr_lst = []\n",
    "    training_phase_lst = []\n",
    "    hyper_parameters_lst = []\n",
    "    accumulate_duration_lst = []\n",
    "    model_file_name_lst = []"
   ]
  },
  {
   "cell_type": "code",
   "execution_count": 41,
   "metadata": {},
   "outputs": [
    {
     "name": "stderr",
     "output_type": "stream",
     "text": [
      "Train--Epoch [189/200]: 100%|██████████| 100/100 [00:21<00:00,  4.75it/s, acc=72.3, loss=0.577]\n",
      "Valid--Epoch [189/200]: 100%|██████████| 20/20 [00:03<00:00,  5.31it/s, acc=83.7, loss=0.362]"
     ]
    },
    {
     "name": "stdout",
     "output_type": "stream",
     "text": [
      "epoch duration(H:M:S):- 00:00:25   accumulate duration(H:M:S):- 01:16:04\n",
      "\n"
     ]
    },
    {
     "name": "stderr",
     "output_type": "stream",
     "text": [
      "\n",
      "Train--Epoch [190/200]: 100%|██████████| 100/100 [00:20<00:00,  4.86it/s, acc=86.3, loss=0.312]\n",
      "Valid--Epoch [190/200]: 100%|██████████| 20/20 [00:03<00:00,  6.19it/s, acc=89.2, loss=0.265]"
     ]
    },
    {
     "name": "stdout",
     "output_type": "stream",
     "text": [
      "epoch duration(H:M:S):- 00:00:24   accumulate duration(H:M:S):- 01:16:28\n",
      "\n"
     ]
    },
    {
     "name": "stderr",
     "output_type": "stream",
     "text": [
      "\n",
      "Train--Epoch [191/200]: 100%|██████████| 100/100 [00:20<00:00,  4.86it/s, acc=91.9, loss=0.194]\n",
      "Valid--Epoch [191/200]: 100%|██████████| 20/20 [00:03<00:00,  6.04it/s, acc=91.4, loss=0.23] "
     ]
    },
    {
     "name": "stdout",
     "output_type": "stream",
     "text": [
      "epoch duration(H:M:S):- 00:00:24   accumulate duration(H:M:S):- 01:16:53\n",
      "\n"
     ]
    },
    {
     "name": "stderr",
     "output_type": "stream",
     "text": [
      "\n",
      "Train--Epoch [192/200]: 100%|██████████| 100/100 [00:20<00:00,  4.92it/s, acc=94.2, loss=0.146]\n",
      "Valid--Epoch [192/200]: 100%|██████████| 20/20 [00:03<00:00,  5.96it/s, acc=91.4, loss=0.237]"
     ]
    },
    {
     "name": "stdout",
     "output_type": "stream",
     "text": [
      "epoch duration(H:M:S):- 00:00:24   accumulate duration(H:M:S):- 01:17:17\n",
      "\n"
     ]
    },
    {
     "name": "stderr",
     "output_type": "stream",
     "text": [
      "\n",
      "Train--Epoch [193/200]: 100%|██████████| 100/100 [00:20<00:00,  4.84it/s, acc=94.7, loss=0.133]\n",
      "Valid--Epoch [193/200]: 100%|██████████| 20/20 [00:03<00:00,  6.07it/s, acc=91.4, loss=0.247]"
     ]
    },
    {
     "name": "stdout",
     "output_type": "stream",
     "text": [
      "epoch duration(H:M:S):- 00:00:24   accumulate duration(H:M:S):- 01:17:41\n",
      "\n"
     ]
    },
    {
     "name": "stderr",
     "output_type": "stream",
     "text": [
      "\n",
      "Train--Epoch [194/200]: 100%|██████████| 100/100 [00:20<00:00,  4.88it/s, acc=95, loss=0.127] \n",
      "Valid--Epoch [194/200]: 100%|██████████| 20/20 [00:03<00:00,  5.78it/s, acc=91.8, loss=0.226]"
     ]
    },
    {
     "name": "stdout",
     "output_type": "stream",
     "text": [
      "epoch duration(H:M:S):- 00:00:24   accumulate duration(H:M:S):- 01:18:06\n",
      "\n"
     ]
    },
    {
     "name": "stderr",
     "output_type": "stream",
     "text": [
      "\n",
      "Train--Epoch [195/200]: 100%|██████████| 100/100 [00:20<00:00,  4.80it/s, acc=94.9, loss=0.129]\n",
      "Valid--Epoch [195/200]: 100%|██████████| 20/20 [00:03<00:00,  6.06it/s, acc=92.1, loss=0.222]"
     ]
    },
    {
     "name": "stdout",
     "output_type": "stream",
     "text": [
      "epoch duration(H:M:S):- 00:00:24   accumulate duration(H:M:S):- 01:18:30\n",
      "\n"
     ]
    },
    {
     "name": "stderr",
     "output_type": "stream",
     "text": [
      "\n",
      "Train--Epoch [196/200]: 100%|██████████| 100/100 [00:21<00:00,  4.68it/s, acc=95, loss=0.125] \n",
      "Valid--Epoch [196/200]: 100%|██████████| 20/20 [00:03<00:00,  5.76it/s, acc=92, loss=0.231]  "
     ]
    },
    {
     "name": "stdout",
     "output_type": "stream",
     "text": [
      "epoch duration(H:M:S):- 00:00:25   accumulate duration(H:M:S):- 01:18:56\n",
      "\n"
     ]
    },
    {
     "name": "stderr",
     "output_type": "stream",
     "text": [
      "\n",
      "Train--Epoch [197/200]: 100%|██████████| 100/100 [00:20<00:00,  4.78it/s, acc=95.1, loss=0.124]\n",
      "Valid--Epoch [197/200]: 100%|██████████| 20/20 [00:03<00:00,  5.75it/s, acc=92, loss=0.234]  "
     ]
    },
    {
     "name": "stdout",
     "output_type": "stream",
     "text": [
      "epoch duration(H:M:S):- 00:00:24   accumulate duration(H:M:S):- 01:19:20\n",
      "\n"
     ]
    },
    {
     "name": "stderr",
     "output_type": "stream",
     "text": [
      "\n",
      "Train--Epoch [198/200]: 100%|██████████| 100/100 [00:20<00:00,  4.80it/s, acc=95.3, loss=0.118]\n",
      "Valid--Epoch [198/200]: 100%|██████████| 20/20 [00:03<00:00,  5.82it/s, acc=92.1, loss=0.225]"
     ]
    },
    {
     "name": "stdout",
     "output_type": "stream",
     "text": [
      "epoch duration(H:M:S):- 00:00:24   accumulate duration(H:M:S):- 01:19:45\n",
      "\n"
     ]
    },
    {
     "name": "stderr",
     "output_type": "stream",
     "text": [
      "\n",
      "Train--Epoch [199/200]: 100%|██████████| 100/100 [00:21<00:00,  4.70it/s, acc=95.3, loss=0.119]\n",
      "Valid--Epoch [199/200]: 100%|██████████| 20/20 [00:03<00:00,  5.56it/s, acc=91.5, loss=0.242]"
     ]
    },
    {
     "name": "stdout",
     "output_type": "stream",
     "text": [
      "epoch duration(H:M:S):- 00:00:25   accumulate duration(H:M:S):- 01:20:10\n",
      "\n"
     ]
    },
    {
     "name": "stderr",
     "output_type": "stream",
     "text": [
      "\n",
      "Train--Epoch [200/200]: 100%|██████████| 100/100 [00:21<00:00,  4.75it/s, acc=95.3, loss=0.118]\n",
      "Valid--Epoch [200/200]: 100%|██████████| 20/20 [00:03<00:00,  5.49it/s, acc=91.2, loss=0.259]"
     ]
    },
    {
     "name": "stdout",
     "output_type": "stream",
     "text": [
      "epoch duration(H:M:S):- 00:00:25   accumulate duration(H:M:S):- 01:20:36\n",
      "\n",
      "\n",
      "Total Training Time(H:M:S):- 00:04:56\n"
     ]
    },
    {
     "name": "stderr",
     "output_type": "stream",
     "text": [
      "\n"
     ]
    }
   ],
   "source": [
    "training_start_time = time.time()\n",
    "\n",
    "model.to(device)\n",
    "for epoch in range(start_epoch, end_epoch):\n",
    "    epoch_start_time = time.time()\n",
    "\n",
    "    ##########################################################\n",
    "    model.train(True)\n",
    "    tr_loss = 0\n",
    "    correct = 0\n",
    "    total = 0\n",
    "    running_lr = 0\n",
    "\n",
    "    loop1 = tqdm(enumerate(train_loader), total=len(train_loader))\n",
    "    for batch_idx, (*_, inputs, targets) in loop1:\n",
    "        inputs, targets = inputs.to(device), targets.to(device)\n",
    "\n",
    "        outputs = model(inputs)\n",
    "        loss = criterion(outputs, targets)\n",
    "\n",
    "        # Zero gradients for every batch\n",
    "        optimizer.zero_grad()\n",
    "        # Backward path\n",
    "        loss.backward()\n",
    "\n",
    "        running_lr += optimizer.param_groups[-1]['lr']\n",
    "\n",
    "        # Optimizer Step\n",
    "        optimizer.step()\n",
    "\n",
    "        tr_loss += loss.item()\n",
    "        _, predicted = outputs.max(1)\n",
    "        total += targets.size(0)\n",
    "        correct += predicted.eq(targets).sum().item()\n",
    "\n",
    "        avg_tr_loss = tr_loss/(batch_idx+1)\n",
    "        avg_tr_accuracy = 100.*correct/total\n",
    "        avg_running_lr = running_lr/(batch_idx+1)\n",
    "\n",
    "        loop1.set_description(f\"Train--Epoch [{epoch+1}/{end_epoch}]\")\n",
    "        loop1.set_postfix(loss=avg_tr_loss, acc=avg_tr_accuracy)\n",
    "\n",
    "    ##########################################################\n",
    "    model.eval()\n",
    "    val_loss = 0\n",
    "    correct = 0\n",
    "    total = 0\n",
    "    with torch.no_grad():\n",
    "\n",
    "        loop2 = tqdm(enumerate(valid_loader), total=len(valid_loader))\n",
    "        for batch_idx, (*_, inputs, targets) in loop2:\n",
    "            inputs, targets = inputs.to(device), targets.to(device)\n",
    "\n",
    "            outputs = model(inputs)\n",
    "            loss = criterion(outputs, targets)\n",
    "\n",
    "            val_loss += loss.item()\n",
    "            _, predicted = outputs.max(1)\n",
    "            total += targets.size(0)\n",
    "            correct += predicted.eq(targets).sum().item()\n",
    "\n",
    "            avg_val_loss = val_loss/(batch_idx+1)\n",
    "            avg_val_accuracy = 100.*correct/total\n",
    "\n",
    "            loop2.set_description(f\"Valid--Epoch [{epoch+1}/{end_epoch}]\")\n",
    "            loop2.set_postfix(loss=avg_val_loss, acc=avg_val_accuracy)\n",
    "    ##########################################################\n",
    "\n",
    "    epoch_end_time = time.time()\n",
    "\n",
    "    epoch_duration = epoch_end_time-epoch_start_time\n",
    "    epoch_duration_str = time.strftime(\"%H:%M:%S\", time.gmtime(epoch_duration))\n",
    "    previous_duration = accumulate_duration_lst[-1] if len(accumulate_duration_lst) != 0 else 0\n",
    "    accumulate_duration = epoch_duration+previous_duration\n",
    "    accumulate_duration_str = time.strftime(\"%H:%M:%S\", time.gmtime(accumulate_duration))\n",
    "    print(f'epoch duration(H:M:S):- {epoch_duration_str}   accumulate duration(H:M:S):- {accumulate_duration_str}')\n",
    "\n",
    "    model_file_name = f'{model_code}_ph{training_phase}_ep{epoch+1}_acc{avg_val_accuracy:.2f}'\n",
    "\n",
    "    ##########################################################\n",
    "\n",
    "    epoch_lst.append(epoch+1)\n",
    "    tr_loss_lst.append(avg_tr_loss)\n",
    "    tr_acc_lst.append(avg_tr_accuracy)\n",
    "    val_loss_lst.append(avg_val_loss)\n",
    "    val_acc_lst.append(avg_val_accuracy)\n",
    "    optimizer_lst.append(type(optimizer).__name__)\n",
    "    running_lr_lst.append(avg_running_lr)\n",
    "    training_phase_lst.append(training_phase)\n",
    "    hyper_parameters_lst.append(hyper_parameters)\n",
    "    accumulate_duration_lst.append(accumulate_duration)\n",
    "    model_file_name_lst.append(model_file_name)\n",
    "\n",
    "    # Save checkpoint.\n",
    "    if avg_val_accuracy > best_acc:\n",
    "        best_acc = avg_val_accuracy\n",
    "\n",
    "        print('Saving...')\n",
    "        state = {\"model\": model.state_dict(),\n",
    "                 \"optimizer\": optimizer.state_dict(),\n",
    "                 \"best_acc\": best_acc,\n",
    "                 \"epoch_lst\": epoch_lst,\n",
    "                 \"tr_loss_lst\": tr_loss_lst,\n",
    "                 \"tr_acc_lst\": tr_acc_lst,\n",
    "                 \"val_loss_lst\": val_loss_lst,\n",
    "                 \"val_acc_lst\": val_acc_lst,\n",
    "                 \"optimizer_lst\": optimizer_lst,\n",
    "                 \"running_lr_lst\": running_lr_lst,\n",
    "                 \"training_phase_lst\": training_phase_lst,\n",
    "                 \"hyper_parameters_lst\": hyper_parameters_lst,\n",
    "                 \"accumulate_duration_lst\": accumulate_duration_lst,\n",
    "                 \"model_file_name_lst\":model_file_name_lst\n",
    "                 }\n",
    "        torch.save(state, model_state_path + model_file_name)\n",
    "\n",
    "    ##########################################################\n",
    "\n",
    "    if use_scheduler:\n",
    "        scheduler.step(val_acc_lst[-1])  # step scheduling\n",
    "    print()\n",
    "\n",
    "\n",
    "training_end_time = time.time()\n",
    "total_duration = training_end_time-training_start_time\n",
    "total_duration_str = time.strftime(\"%H:%M:%S\", time.gmtime(total_duration))\n",
    "print()\n",
    "print(f'Total Training Time(H:M:S):- {total_duration_str}')"
   ]
  },
  {
   "cell_type": "code",
   "execution_count": 42,
   "metadata": {},
   "outputs": [
    {
     "name": "stdout",
     "output_type": "stream",
     "text": [
      "Total Training Duration for 200 epochs is:- 01:20:36 (H:M:S)\n"
     ]
    }
   ],
   "source": [
    "print(f'Total Training Duration for {epoch_lst[-1]} epochs is:- {accumulate_duration_str} (H:M:S)')"
   ]
  },
  {
   "cell_type": "code",
   "execution_count": 43,
   "metadata": {},
   "outputs": [],
   "source": [
    "state = {\"model\": model.state_dict(),\n",
    "         \"optimizer\": optimizer.state_dict(),\n",
    "         \"best_acc\": best_acc,\n",
    "         \"epoch_lst\":epoch_lst,\n",
    "         \"tr_loss_lst\": tr_loss_lst,\n",
    "         \"tr_acc_lst\": tr_acc_lst,\n",
    "         \"val_loss_lst\": val_loss_lst,\n",
    "         \"val_acc_lst\": val_acc_lst,\n",
    "         \"optimizer_lst\": optimizer_lst,\n",
    "         \"running_lr_lst\": running_lr_lst,\n",
    "         \"training_phase_lst\": training_phase_lst,\n",
    "         \"hyper_parameters_lst\": hyper_parameters_lst,\n",
    "         \"accumulate_duration_lst\": accumulate_duration_lst,\n",
    "         \"model_file_name_lst\":model_file_name_lst\n",
    "         }\n",
    "model_file_name = f'{model_code}_ph{training_phase}_lastEp{epoch+1}_acc{avg_val_accuracy:.2f}'\n",
    "torch.save(state, model_state_path + model_file_name)"
   ]
  },
  {
   "cell_type": "code",
   "execution_count": 44,
   "metadata": {},
   "outputs": [
    {
     "name": "stdout",
     "output_type": "stream",
     "text": [
      "Best Validation Accuracy is: 92.17%\n",
      "Happened at epoch 188\n",
      "total training duration 01:15:39 (H:M:S)\n"
     ]
    }
   ],
   "source": [
    "print(f\"Best Validation Accuracy is: {best_acc:.2f}%\")\n",
    "print(f\"Happened at epoch {epoch_lst[val_acc_lst.index(best_acc)]}\")\n",
    "print(f'total training duration {time.strftime(\"%H:%M:%S\", time.gmtime(accumulate_duration_lst[val_acc_lst.index(best_acc)]))} (H:M:S)')\n"
   ]
  },
  {
   "cell_type": "code",
   "execution_count": 45,
   "metadata": {},
   "outputs": [
    {
     "name": "stdout",
     "output_type": "stream",
     "text": [
      "VITWPT_haar_L3P1H16E2S0B1000D32_CIFAKE_ph1_ep188_acc92.17\n"
     ]
    },
    {
     "ename": "FileNotFoundError",
     "evalue": "[Errno 2] No such file or directory: '../weights/CIFAKE/WPT-ViT_haar_L3_P1_H16_E2_S0_B1000_D32_CIFAKE/VITWPT_haar_L3P1H16E2S0B1000D32_CIFAKE_ph1_ep188_acc92.17'",
     "output_type": "error",
     "traceback": [
      "\u001b[0;31m---------------------------------------------------------------------------\u001b[0m",
      "\u001b[0;31mFileNotFoundError\u001b[0m                         Traceback (most recent call last)",
      "Cell \u001b[0;32mIn[45], line 10\u001b[0m\n\u001b[1;32m      7\u001b[0m model_file_name \u001b[38;5;241m=\u001b[39m model_file_name_lst[best_acc_index]\n\u001b[1;32m      8\u001b[0m \u001b[38;5;28mprint\u001b[39m(model_file_name)\n\u001b[0;32m---> 10\u001b[0m checkpoint \u001b[38;5;241m=\u001b[39m \u001b[43mtorch\u001b[49m\u001b[38;5;241;43m.\u001b[39;49m\u001b[43mload\u001b[49m\u001b[43m(\u001b[49m\u001b[43mmodel_state_path\u001b[49m\u001b[38;5;241;43m+\u001b[39;49m\u001b[43mmodel_file_name\u001b[49m\u001b[43m)\u001b[49m\n\u001b[1;32m     13\u001b[0m model\u001b[38;5;241m.\u001b[39mload_state_dict(checkpoint[\u001b[38;5;124m'\u001b[39m\u001b[38;5;124mmodel\u001b[39m\u001b[38;5;124m'\u001b[39m])\n\u001b[1;32m     15\u001b[0m best_acc \u001b[38;5;241m=\u001b[39m checkpoint[\u001b[38;5;124m'\u001b[39m\u001b[38;5;124mbest_acc\u001b[39m\u001b[38;5;124m'\u001b[39m]\n",
      "File \u001b[0;32m~/pytVenv/lib/python3.11/site-packages/torch/serialization.py:998\u001b[0m, in \u001b[0;36mload\u001b[0;34m(f, map_location, pickle_module, weights_only, mmap, **pickle_load_args)\u001b[0m\n\u001b[1;32m    995\u001b[0m \u001b[38;5;28;01mif\u001b[39;00m \u001b[38;5;124m'\u001b[39m\u001b[38;5;124mencoding\u001b[39m\u001b[38;5;124m'\u001b[39m \u001b[38;5;129;01mnot\u001b[39;00m \u001b[38;5;129;01min\u001b[39;00m pickle_load_args\u001b[38;5;241m.\u001b[39mkeys():\n\u001b[1;32m    996\u001b[0m     pickle_load_args[\u001b[38;5;124m'\u001b[39m\u001b[38;5;124mencoding\u001b[39m\u001b[38;5;124m'\u001b[39m] \u001b[38;5;241m=\u001b[39m \u001b[38;5;124m'\u001b[39m\u001b[38;5;124mutf-8\u001b[39m\u001b[38;5;124m'\u001b[39m\n\u001b[0;32m--> 998\u001b[0m \u001b[38;5;28;01mwith\u001b[39;00m \u001b[43m_open_file_like\u001b[49m\u001b[43m(\u001b[49m\u001b[43mf\u001b[49m\u001b[43m,\u001b[49m\u001b[43m \u001b[49m\u001b[38;5;124;43m'\u001b[39;49m\u001b[38;5;124;43mrb\u001b[39;49m\u001b[38;5;124;43m'\u001b[39;49m\u001b[43m)\u001b[49m \u001b[38;5;28;01mas\u001b[39;00m opened_file:\n\u001b[1;32m    999\u001b[0m     \u001b[38;5;28;01mif\u001b[39;00m _is_zipfile(opened_file):\n\u001b[1;32m   1000\u001b[0m         \u001b[38;5;66;03m# The zipfile reader is going to advance the current file position.\u001b[39;00m\n\u001b[1;32m   1001\u001b[0m         \u001b[38;5;66;03m# If we want to actually tail call to torch.jit.load, we need to\u001b[39;00m\n\u001b[1;32m   1002\u001b[0m         \u001b[38;5;66;03m# reset back to the original position.\u001b[39;00m\n\u001b[1;32m   1003\u001b[0m         orig_position \u001b[38;5;241m=\u001b[39m opened_file\u001b[38;5;241m.\u001b[39mtell()\n",
      "File \u001b[0;32m~/pytVenv/lib/python3.11/site-packages/torch/serialization.py:445\u001b[0m, in \u001b[0;36m_open_file_like\u001b[0;34m(name_or_buffer, mode)\u001b[0m\n\u001b[1;32m    443\u001b[0m \u001b[38;5;28;01mdef\u001b[39;00m \u001b[38;5;21m_open_file_like\u001b[39m(name_or_buffer, mode):\n\u001b[1;32m    444\u001b[0m     \u001b[38;5;28;01mif\u001b[39;00m _is_path(name_or_buffer):\n\u001b[0;32m--> 445\u001b[0m         \u001b[38;5;28;01mreturn\u001b[39;00m \u001b[43m_open_file\u001b[49m\u001b[43m(\u001b[49m\u001b[43mname_or_buffer\u001b[49m\u001b[43m,\u001b[49m\u001b[43m \u001b[49m\u001b[43mmode\u001b[49m\u001b[43m)\u001b[49m\n\u001b[1;32m    446\u001b[0m     \u001b[38;5;28;01melse\u001b[39;00m:\n\u001b[1;32m    447\u001b[0m         \u001b[38;5;28;01mif\u001b[39;00m \u001b[38;5;124m'\u001b[39m\u001b[38;5;124mw\u001b[39m\u001b[38;5;124m'\u001b[39m \u001b[38;5;129;01min\u001b[39;00m mode:\n",
      "File \u001b[0;32m~/pytVenv/lib/python3.11/site-packages/torch/serialization.py:426\u001b[0m, in \u001b[0;36m_open_file.__init__\u001b[0;34m(self, name, mode)\u001b[0m\n\u001b[1;32m    425\u001b[0m \u001b[38;5;28;01mdef\u001b[39;00m \u001b[38;5;21m__init__\u001b[39m(\u001b[38;5;28mself\u001b[39m, name, mode):\n\u001b[0;32m--> 426\u001b[0m     \u001b[38;5;28msuper\u001b[39m()\u001b[38;5;241m.\u001b[39m\u001b[38;5;21m__init__\u001b[39m(\u001b[38;5;28;43mopen\u001b[39;49m\u001b[43m(\u001b[49m\u001b[43mname\u001b[49m\u001b[43m,\u001b[49m\u001b[43m \u001b[49m\u001b[43mmode\u001b[49m\u001b[43m)\u001b[49m)\n",
      "\u001b[0;31mFileNotFoundError\u001b[0m: [Errno 2] No such file or directory: '../weights/CIFAKE/WPT-ViT_haar_L3_P1_H16_E2_S0_B1000_D32_CIFAKE/VITWPT_haar_L3P1H16E2S0B1000D32_CIFAKE_ph1_ep188_acc92.17'"
     ]
    }
   ],
   "source": [
    "# load the best model\n",
    "\n",
    "# file name of the saved model\n",
    "best_acc_index = val_acc_lst.index(best_acc)\n",
    "\n",
    "# model_file_name = f'{model_folder}_{model_code}_ph{training_phase_lst[best_acc_index]}_epoch{epoch_lst[best_acc_index]}_acc{best_acc:.2f}'\n",
    "model_file_name = model_file_name_lst[best_acc_index]\n",
    "print(model_file_name)\n",
    "\n",
    "checkpoint = torch.load(model_state_path+model_file_name)\n",
    "\n",
    "\n",
    "model.load_state_dict(checkpoint['model'])\n",
    "\n",
    "best_acc = checkpoint['best_acc']\n",
    "epoch_lst = checkpoint['epoch_lst']\n",
    "tr_loss_lst = checkpoint['tr_loss_lst']\n",
    "tr_acc_lst = checkpoint['tr_acc_lst']\n",
    "val_loss_lst = checkpoint['val_loss_lst']\n",
    "val_acc_lst = checkpoint['val_acc_lst']\n",
    "optimizer_lst = checkpoint['optimizer_lst']\n",
    "running_lr_lst = checkpoint['running_lr_lst']\n",
    "training_phase_lst = checkpoint['training_phase_lst']\n",
    "hyper_parameters_lst = checkpoint['hyper_parameters_lst']\n",
    "accumulate_duration_lst = checkpoint['accumulate_duration_lst']\n",
    "model_file_name_lst = checkpoint['model_file_name_lst']"
   ]
  },
  {
   "cell_type": "code",
   "execution_count": null,
   "metadata": {},
   "outputs": [],
   "source": [
    "grid_step = 10"
   ]
  },
  {
   "cell_type": "code",
   "execution_count": null,
   "metadata": {},
   "outputs": [],
   "source": [
    "fig, axs = plt.subplots(2, 1,sharex=True)\n",
    "\n",
    "axs[0].plot(range(len(tr_loss_lst)), tr_loss_lst, label='Train Loss')\n",
    "axs[0].plot(range(len(val_loss_lst)), val_loss_lst, label='Validation Loss')\n",
    "axs[0].set_ylim([0, 0.8])\n",
    "\n",
    "axs[1].plot(range(len(tr_acc_lst)), tr_acc_lst, label='Train Accuracy')\n",
    "axs[1].plot(range(len(val_acc_lst)), val_acc_lst, label='Validation Accuracy')\n",
    "axs[1].set_ylim([40, 100])\n",
    "\n",
    "axs[0].legend(loc='upper right')\n",
    "axs[1].legend(loc='lower right')\n",
    "\n",
    "axs[0].grid(True)\n",
    "axs[1].grid(True)\n",
    "\n",
    "axs[1].set_xlabel('Epochs')\n",
    "\n",
    "axs[1].set_xticks(np.arange(0, len(val_acc_lst)+1, step=grid_step))\n",
    "\n",
    "plt.show()"
   ]
  },
  {
   "cell_type": "code",
   "execution_count": null,
   "metadata": {},
   "outputs": [],
   "source": [
    "fig, axs = plt.subplots(1, 1)\n",
    "\n",
    "axs.plot(range(len(running_lr_lst)), running_lr_lst,\n",
    "         label=f'lr change for the {optimizer_lst[-1]} optimizer')\n",
    "axs.set_xlabel('Epochs')\n",
    "axs.set_ylabel('Running Learning Rate')\n",
    "axs.set_xticks(np.arange(0, len(running_lr_lst)+1, step=grid_step))\n",
    "axs.grid(True)\n",
    "axs.legend()\n",
    "plt.show()"
   ]
  },
  {
   "cell_type": "code",
   "execution_count": null,
   "metadata": {},
   "outputs": [],
   "source": [
    "if image_new_size != in_img_size:\n",
    "    transform_test = transforms.Compose([\n",
    "        v2.Resize(size=image_new_size),\n",
    "        v2.ToImage(),\n",
    "        v2.ToDtype(torch.float32, scale=True),\n",
    "        v2.Normalize(img_trans_norm_mean, img_trans_norm_std),\n",
    "    ])\n",
    "else:\n",
    "    transform_test = transforms.Compose([\n",
    "        v2.ToImage(),\n",
    "        v2.ToDtype(torch.float32, scale=True),\n",
    "        v2.Normalize(img_trans_norm_mean, img_trans_norm_std),\n",
    "    ])\n",
    "\n",
    "\n",
    "test_set = Images_Dataset(df_test, transform_test)\n",
    "\n",
    "test_loader = DataLoader(dataset=test_set,\n",
    "                         batch_size=test_batch_size,\n",
    "                         # Drops the last mini batch if less than the batch size (could enhance the model accuracy)\n",
    "                         drop_last=True,\n",
    "                         shuffle=False,\n",
    "                         pin_memory=True,\n",
    "                         num_workers=NUM_WORKERS)"
   ]
  },
  {
   "cell_type": "code",
   "execution_count": null,
   "metadata": {},
   "outputs": [],
   "source": [
    "x_test = []\n",
    "y_pred = []\n",
    "y_true = []\n",
    "\n",
    "# iterate over test data\n",
    "with torch.no_grad():\n",
    "    for inputs, labels in test_loader:\n",
    "        inputs, targets = inputs.to(device), targets.to(device)\n",
    "        outputs = model(inputs)\n",
    "        _, predicted = outputs.max(1)\n",
    "\n",
    "        x_test.extend(inputs.permute(0, 2, 3, 1).to('cpu').numpy())  # save inputs (ready for plot)\n",
    "        y_pred.extend(predicted.data.to('cpu').numpy())  # Save Prediction\n",
    "        y_true.extend(labels.data.to('cpu').numpy())  # Save Truth"
   ]
  },
  {
   "cell_type": "code",
   "execution_count": null,
   "metadata": {},
   "outputs": [],
   "source": [
    "# Build confusion matrix\n",
    "cf_matrix = confusion_matrix(y_true, y_pred)\n",
    "CM_df = pd.DataFrame(cf_matrix, index=[i for i in classes], columns=[i for i in classes])\n",
    "\n",
    "CM_recall = cf_matrix / np.sum(cf_matrix, axis=1)[:, None]\n",
    "# Using [:,None] to slice a numpy row vector will turn it into column vector\n",
    "CM_recall_df = pd.DataFrame(CM_recall, index=[i for i in classes], columns=[i for i in classes])\n",
    "\n",
    "fig, axs = plt.subplots(1, 2, figsize=(8, 4))\n",
    "\n",
    "g1 = sn.heatmap(CM_df, annot=True, fmt=\".0f\", linewidth=.5, cmap=\"crest\", ax=axs[0], cbar=False)\n",
    "g1.set(xlabel=\"Predicted Label\", ylabel=\"True Label\")\n",
    "g1.set_title(\"Total\")\n",
    "\n",
    "g2 = sn.heatmap(CM_recall_df, annot=True, fmt=\".2%\", linewidth=.5, cmap=\"crest\", ax=axs[1])\n",
    "g2.set(xlabel=\"Predicted Label\", ylabel=\"\")\n",
    "g2.set_title(\"% w.r.t Predicted Axis\")\n",
    "fig.suptitle(\"Confusion Matrix\", fontsize=16)\n",
    "plt.show()"
   ]
  },
  {
   "cell_type": "code",
   "execution_count": null,
   "metadata": {},
   "outputs": [],
   "source": [
    "print(f'Test Accuracy: {accuracy_score(y_true, y_pred)*100:.2f}%')\n",
    "print(f'Test Recall: {recall_score(y_true, y_pred)*100:.2f}%')\n",
    "print(f'Test f1 Score: {f1_score(y_true, y_pred)*100:.2f}%')"
   ]
  },
  {
   "cell_type": "code",
   "execution_count": null,
   "metadata": {},
   "outputs": [],
   "source": [
    "fpr,tpr,threshold=roc_curve(y_true,y_pred)\n",
    "random_probs = [0 for i in range(len(y_true))]\n",
    "p_fpr, p_tpr, _ = roc_curve(y_true, random_probs, pos_label=1)\n",
    "plt.figure(figsize=(4,4))\n",
    "plt.plot(fpr, tpr, label='VIT with WPT')\n",
    "plt.plot(p_fpr, p_tpr)\n",
    "plt.title('ROC curve')\n",
    "plt.xlabel('False Positive Rate')\n",
    "plt.ylabel('True Positive rate')\n",
    "plt.legend(loc='lower right')\n",
    "plt.grid(True)\n",
    "plt.show()"
   ]
  },
  {
   "cell_type": "code",
   "execution_count": null,
   "metadata": {},
   "outputs": [],
   "source": [
    "print(f'AUC Score {roc_auc_score(y_true,y_pred):0.2%}')"
   ]
  },
  {
   "cell_type": "code",
   "execution_count": null,
   "metadata": {},
   "outputs": [],
   "source": [
    "start_idx = 9980\n",
    "sample_length = 64\n",
    "cols = 8\n",
    "\n",
    "test_idxs = range(start_idx, start_idx+sample_length)\n",
    "rows = -(-sample_length//cols)\n",
    "# print(rows)\n",
    "\n",
    "figsize = (cols*1.25, rows*1.25)\n",
    "\n",
    "\n",
    "margins = {  #inches\n",
    "    \"left\":   1.0,\n",
    "    \"bottom\": 1.0,\n",
    "    \"right\":  1.1,\n",
    "    \"top\":    1.1,\n",
    "    \"wspace\": 0.2,\n",
    "    \"hspace\": 0.2\n",
    "}\n",
    "\n",
    "fig, axs = plt.subplots(rows,cols, figsize=figsize, gridspec_kw=margins)\n",
    "\n",
    "for i, ax_row in enumerate(axs):\n",
    "    for j, ax in enumerate(ax_row):\n",
    "        idx = test_idxs[i*cols+j]\n",
    "\n",
    "        tst_img = x_test[idx]\n",
    "        true_label = classes[y_true[idx]]\n",
    "        pred_label = classes[y_pred[idx]]\n",
    "        if pred_label == true_label:\n",
    "            color = 'b'\n",
    "        else:\n",
    "            color = 'r'\n",
    "\n",
    "        true_label_txt = f'True Label: {true_label}'\n",
    "        pred_label_txt = f'Predicted: {pred_label}'\n",
    "\n",
    "        ax.imshow(norm_to_plot(tst_img))\n",
    "        ax.set_title(pred_label_txt, fontsize=8, color=color)\n",
    "        ax.set_xlabel(true_label_txt, fontsize=8)\n",
    "        ax.set(xticks=[], yticks=[])\n",
    "plt.show()"
   ]
  },
  {
   "cell_type": "code",
   "execution_count": null,
   "metadata": {},
   "outputs": [],
   "source": [
    "sample_test_imgt_bch, sample_test_label_bch = next(iter(test_loader))"
   ]
  },
  {
   "cell_type": "code",
   "execution_count": null,
   "metadata": {},
   "outputs": [],
   "source": [
    "# a dict to store the activations\n",
    "activation = {}\n",
    "def getActivation(name):\n",
    "  # the hook signature\n",
    "  def hook(model, input, output):\n",
    "    activation[name] = output.detach()\n",
    "  return hook"
   ]
  },
  {
   "cell_type": "code",
   "execution_count": null,
   "metadata": {},
   "outputs": [],
   "source": [
    "h=model.transformer.layers[0][0].fn.softmax.register_forward_hook(getActivation('weights'))\n",
    "\n",
    "test_output = model(sample_test_imgt_bch.to(device))"
   ]
  },
  {
   "cell_type": "code",
   "execution_count": null,
   "metadata": {},
   "outputs": [],
   "source": [
    "def plot_attention(attention_matrix, title, wpt_dim, step):\n",
    "    fig, ax = plt.subplots(1, 1, figsize=(10, 9))\n",
    "    hm = sn.heatmap(attention_matrix,\n",
    "                    ax=ax,\n",
    "                    cmap='Greens',\n",
    "                    square=True,\n",
    "                    cbar_kws={'shrink': 0.6})\n",
    "\n",
    "    # Drawing the frame\n",
    "    for _, spine in hm.spines.items():\n",
    "        spine.set_visible(True)\n",
    "        spine.set_linewidth(1)\n",
    "        spine.set_color(\"k\")\n",
    "\n",
    "    fig.suptitle(f\"Attention of a {title} Image\", fontsize=16)\n",
    "\n",
    "    all_patches = attention_matrix.shape[-1]\n",
    "\n",
    "    ticks_line1 = np.arange(0, all_patches+1, step=1)\n",
    "    ticks_line2 = np.arange(0, all_patches+1, step=step)\n",
    "\n",
    "    ax.set_yticks(ticks_line1)\n",
    "    ax.set_xticks(ticks_line1)\n",
    "\n",
    "    ax.xaxis.set_minor_locator(ticker.FixedLocator(ticks_line1))\n",
    "    ax.yaxis.set_minor_locator(ticker.FixedLocator(ticks_line1))\n",
    "    ax.xaxis.set_major_locator(ticker.FixedLocator(ticks_line2))\n",
    "    ax.yaxis.set_major_locator(ticker.FixedLocator(ticks_line2))\n",
    "\n",
    "    ax.set_xticklabels(ticks_line2//patches_per_dec, rotation=0, fontsize=7)\n",
    "    ax.set_yticklabels(ticks_line2//patches_per_dec, rotation=0, fontsize=7)\n",
    "\n",
    "    ax.xaxis.set_ticks_position('top')\n",
    "    ax.grid(True, which='major', color='k')\n",
    "    ax.grid(True, which='minor', color='darkgray')\n",
    "    # ax.minorticks_on()"
   ]
  },
  {
   "cell_type": "code",
   "execution_count": null,
   "metadata": {},
   "outputs": [],
   "source": [
    "index = 0\n",
    "mat1 = activation['weights'][index, :, 1:, 1:].to('cpu').mean(0).numpy()\n",
    "title1 = classes[sample_test_label_bch[index]]\n",
    "plot_attention(mat1, title1, wpt_img_size, patches_per_dec)"
   ]
  },
  {
   "cell_type": "code",
   "execution_count": null,
   "metadata": {},
   "outputs": [],
   "source": [
    "index = 900\n",
    "mat2 = activation['weights'][index, :, 1:, 1:].to('cpu').mean(0).numpy()\n",
    "title2 = classes[sample_test_label_bch[index]]\n",
    "plot_attention(mat2, title2, wpt_img_size,  patches_per_dec)"
   ]
  },
  {
   "cell_type": "code",
   "execution_count": null,
   "metadata": {},
   "outputs": [],
   "source": [
    "index = 660\n",
    "mat2 = activation['weights'][index, :, 1:, 1:].to('cpu').mean(0).numpy()\n",
    "title2 = classes[sample_test_label_bch[index]]\n",
    "plot_attention(mat2, title2, wpt_img_size,  patches_per_dec)"
   ]
  },
  {
   "cell_type": "code",
   "execution_count": null,
   "metadata": {},
   "outputs": [],
   "source": [
    "index = 20\n",
    "mat2 = activation['weights'][index, :, 1:, 1:].to('cpu').mean(0).numpy()\n",
    "title2 = classes[sample_test_label_bch[index]]\n",
    "plot_attention(mat2, title2, wpt_img_size,  patches_per_dec)"
   ]
  },
  {
   "cell_type": "code",
   "execution_count": null,
   "metadata": {},
   "outputs": [],
   "source": [
    "# I'm using 16 heads , while the original embedding size of flattened patches is 16 RGB pixels\n",
    "# hence each head will compute the attention of a single RGB pixel\n",
    "# every minor tick represent an image patch, and every major tick represents \n",
    "# one of the WPT decompositions of a sample test image. \n",
    "# By taking mean of the 16 heads attentions, we measure the attention between each patch and\n",
    "# all of its spatial neighbors, at the same time we measure attention with patches from other \n",
    "# wavelet decompositions.\n",
    "# Result shows that a high attention could be found between patches from different WPT decompositions.\n",
    "\n"
   ]
  }
 ],
 "metadata": {
  "kernelspec": {
   "display_name": "timmvenv11",
   "language": "python",
   "name": "python3"
  },
  "language_info": {
   "codemirror_mode": {
    "name": "ipython",
    "version": 3
   },
   "file_extension": ".py",
   "mimetype": "text/x-python",
   "name": "python",
   "nbconvert_exporter": "python",
   "pygments_lexer": "ipython3",
   "version": "3.11.0rc1"
  }
 },
 "nbformat": 4,
 "nbformat_minor": 2
}
